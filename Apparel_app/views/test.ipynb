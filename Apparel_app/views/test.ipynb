{
 "cells": [
  {
   "cell_type": "code",
   "execution_count": 11,
   "metadata": {},
   "outputs": [
    {
     "name": "stdout",
     "output_type": "stream",
     "text": [
      "0\n",
      "[1]\n",
      "1\n",
      "[0]\n",
      "2\n",
      "[1]\n",
      "3\n",
      "[1]\n",
      "4\n",
      "[1]\n",
      "5\n",
      "[1]\n"
     ]
    },
    {
     "data": {
      "text/plain": [
       "6"
      ]
     },
     "execution_count": 11,
     "metadata": {},
     "output_type": "execute_result"
    }
   ],
   "source": [
    "import pickle\n",
    "import numpy as np\n",
    "\n",
    "# 모델 불러오기\n",
    "model = None\n",
    "with open('./model.pkl', 'rb') as file:\n",
    "    model = pickle.load(file)\n",
    "    #'cup_size', 'hips', 'height', 'item_size'\n",
    "size = 6    \n",
    "for i in range(6):\n",
    "    print(i)\n",
    "    test = np.array([3, 26, 134, i]).reshape(1,-1)\n",
    "    pred = model.predict(test)\n",
    "    print(pred)\n",
    "    if pred == 2:\n",
    "        if i < size:\n",
    "            size = i\n",
    "size"
   ]
  },
  {
   "cell_type": "code",
   "execution_count": null,
   "metadata": {},
   "outputs": [],
   "source": []
  }
 ],
 "metadata": {
  "kernelspec": {
   "display_name": "section4_pj",
   "language": "python",
   "name": "python3"
  },
  "language_info": {
   "codemirror_mode": {
    "name": "ipython",
    "version": 3
   },
   "file_extension": ".py",
   "mimetype": "text/x-python",
   "name": "python",
   "nbconvert_exporter": "python",
   "pygments_lexer": "ipython3",
   "version": "3.8.16"
  },
  "orig_nbformat": 4
 },
 "nbformat": 4,
 "nbformat_minor": 2
}
