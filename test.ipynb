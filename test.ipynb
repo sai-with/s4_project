{
 "cells": [
  {
   "cell_type": "code",
   "execution_count": 11,
   "metadata": {},
   "outputs": [
    {
     "name": "stdout",
     "output_type": "stream",
     "text": [
      "div2\n",
      "div1\n",
      "1\n",
      "div1\n",
      "2\n",
      "div1\n",
      "3\n",
      "div1\n",
      "4\n",
      "div2\n",
      "div1\n",
      "5\n",
      "div1\n",
      "6\n",
      "div1\n",
      "7\n",
      "div1\n",
      "8\n",
      "div2\n",
      "div1\n",
      "9\n",
      "div1\n",
      "10\n",
      "div1\n",
      "11\n",
      "div1\n",
      "12\n"
     ]
    }
   ],
   "source": [
    "item_info = [1,2,3,4,5,6,7,8,9,0,11,12]\n",
    "len(item_info)\n",
    "\n",
    "s = 0\n",
    "for i in range(3):\n",
    "    print(\"div2\")\n",
    "    for a in range(4):\n",
    "        print('div1')\n",
    "        s+=1\n",
    "        print(s)\n",
    "\n",
    "    \n",
    "            "
   ]
  },
  {
   "cell_type": "code",
   "execution_count": null,
   "metadata": {},
   "outputs": [],
   "source": []
  },
  {
   "cell_type": "code",
   "execution_count": null,
   "metadata": {},
   "outputs": [],
   "source": []
  }
 ],
 "metadata": {
  "kernelspec": {
   "display_name": "section4_pj",
   "language": "python",
   "name": "python3"
  },
  "language_info": {
   "codemirror_mode": {
    "name": "ipython",
    "version": 3
   },
   "file_extension": ".py",
   "mimetype": "text/x-python",
   "name": "python",
   "nbconvert_exporter": "python",
   "pygments_lexer": "ipython3",
   "version": "3.8.16"
  },
  "orig_nbformat": 4
 },
 "nbformat": 4,
 "nbformat_minor": 2
}
